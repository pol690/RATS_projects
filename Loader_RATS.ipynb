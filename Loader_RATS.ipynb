{
 "cells": [
  {
   "cell_type": "code",
   "execution_count": 1,
   "metadata": {},
   "outputs": [],
   "source": [
    "import matplotlib.pyplot as plt\n",
    "import pandas as pd"
   ]
  },
  {
   "cell_type": "code",
   "execution_count": 2,
   "metadata": {},
   "outputs": [],
   "source": [
    "years = list(range(1997,2017,1))"
   ]
  },
  {
   "cell_type": "code",
   "execution_count": 3,
   "metadata": {},
   "outputs": [],
   "source": [
    "file_names = [\"Data100%s.xls\" % x for x in years]"
   ]
  },
  {
   "cell_type": "code",
   "execution_count": 4,
   "metadata": {},
   "outputs": [],
   "source": [
    "file_paths = [\"/media/artemk/Data/POPs/RATS/%s\" % x for x in file_names]"
   ]
  },
  {
   "cell_type": "code",
   "execution_count": 5,
   "metadata": {},
   "outputs": [],
   "source": [
    "RATS_sheet_names = [\"Density\", \"Temperature\", \"Salinity\",\"Chlorophyll\",\"PAR\", \"Strat\"]"
   ]
  },
  {
   "cell_type": "code",
   "execution_count": 6,
   "metadata": {},
   "outputs": [],
   "source": [
    "def Rats_converter(name): #not suitable for Strat\n",
    "    name = str(name)\n",
    "    columns_names_1 = [\"year\", \"month\", \"day\",  \"Event\", \"MLD\"]\n",
    "    columns_names_2 = list(range(1,101))\n",
    "    columns_names = columns_names_1 + columns_names_2\n",
    "    dfx = pd.DataFrame()\n",
    "    for x in file_paths:\n",
    "        excel = pd.read_excel(x, name, skiprows = 2)\n",
    "        dfx = dfx.append(excel)\n",
    "    dfx.reset_index(inplace=True)\n",
    "    dfx.drop('index', axis=1, inplace=True)\n",
    "    dfx.columns = columns_names\n",
    "    dfx.to_csv(\"/media/artemk/Data/POPs/RATS/%s.csv\" % name, header=True, index=False)"
   ]
  },
  {
   "cell_type": "code",
   "execution_count": 7,
   "metadata": {},
   "outputs": [],
   "source": [
    "Rats_converter(name=\"Density\")"
   ]
  },
  {
   "cell_type": "code",
   "execution_count": 8,
   "metadata": {},
   "outputs": [],
   "source": [
    "df_density = pd.read_csv(\"/media/artemk/Data/POPs/RATS/Density.csv\", parse_dates=[[\"year\", \"month\", \"day\"]])\n",
    "df_density.drop('Event', axis=1, inplace=True)"
   ]
  },
  {
   "cell_type": "code",
   "execution_count": 11,
   "metadata": {},
   "outputs": [
    {
     "data": {
      "text/html": [
       "<div>\n",
       "<style scoped>\n",
       "    .dataframe tbody tr th:only-of-type {\n",
       "        vertical-align: middle;\n",
       "    }\n",
       "\n",
       "    .dataframe tbody tr th {\n",
       "        vertical-align: top;\n",
       "    }\n",
       "\n",
       "    .dataframe thead th {\n",
       "        text-align: right;\n",
       "    }\n",
       "</style>\n",
       "<table border=\"1\" class=\"dataframe\">\n",
       "  <thead>\n",
       "    <tr style=\"text-align: right;\">\n",
       "      <th></th>\n",
       "      <th>year_month_day</th>\n",
       "      <th>MLD</th>\n",
       "      <th>1</th>\n",
       "      <th>2</th>\n",
       "      <th>3</th>\n",
       "      <th>4</th>\n",
       "      <th>5</th>\n",
       "      <th>6</th>\n",
       "      <th>7</th>\n",
       "      <th>8</th>\n",
       "      <th>...</th>\n",
       "      <th>91</th>\n",
       "      <th>92</th>\n",
       "      <th>93</th>\n",
       "      <th>94</th>\n",
       "      <th>95</th>\n",
       "      <th>96</th>\n",
       "      <th>97</th>\n",
       "      <th>98</th>\n",
       "      <th>99</th>\n",
       "      <th>100</th>\n",
       "    </tr>\n",
       "  </thead>\n",
       "  <tbody>\n",
       "    <tr>\n",
       "      <th>0</th>\n",
       "      <td>1998-01-02</td>\n",
       "      <td>3</td>\n",
       "      <td>26.060254</td>\n",
       "      <td>26.088742</td>\n",
       "      <td>26.110251</td>\n",
       "      <td>26.138357</td>\n",
       "      <td>26.180466</td>\n",
       "      <td>26.212770</td>\n",
       "      <td>26.233976</td>\n",
       "      <td>26.253681</td>\n",
       "      <td>...</td>\n",
       "      <td>27.129025</td>\n",
       "      <td>27.129424</td>\n",
       "      <td>27.130428</td>\n",
       "      <td>27.131266</td>\n",
       "      <td>27.131969</td>\n",
       "      <td>27.132712</td>\n",
       "      <td>27.134112</td>\n",
       "      <td>27.136789</td>\n",
       "      <td>27.142753</td>\n",
       "      <td>27.152694</td>\n",
       "    </tr>\n",
       "    <tr>\n",
       "      <th>1</th>\n",
       "      <td>1998-01-14</td>\n",
       "      <td>1</td>\n",
       "      <td>25.173462</td>\n",
       "      <td>25.607802</td>\n",
       "      <td>25.954171</td>\n",
       "      <td>26.178559</td>\n",
       "      <td>26.327840</td>\n",
       "      <td>26.380065</td>\n",
       "      <td>26.404467</td>\n",
       "      <td>26.426026</td>\n",
       "      <td>...</td>\n",
       "      <td>27.265396</td>\n",
       "      <td>27.272824</td>\n",
       "      <td>27.283433</td>\n",
       "      <td>27.290331</td>\n",
       "      <td>27.294107</td>\n",
       "      <td>27.296084</td>\n",
       "      <td>27.297151</td>\n",
       "      <td>27.303671</td>\n",
       "      <td>27.310539</td>\n",
       "      <td>27.312859</td>\n",
       "    </tr>\n",
       "    <tr>\n",
       "      <th>2</th>\n",
       "      <td>1998-01-20</td>\n",
       "      <td>1</td>\n",
       "      <td>25.405984</td>\n",
       "      <td>25.592794</td>\n",
       "      <td>25.741478</td>\n",
       "      <td>25.845327</td>\n",
       "      <td>25.912701</td>\n",
       "      <td>25.972181</td>\n",
       "      <td>26.015282</td>\n",
       "      <td>26.049832</td>\n",
       "      <td>...</td>\n",
       "      <td>27.129682</td>\n",
       "      <td>27.136731</td>\n",
       "      <td>27.138540</td>\n",
       "      <td>27.140451</td>\n",
       "      <td>27.144443</td>\n",
       "      <td>27.147141</td>\n",
       "      <td>27.151460</td>\n",
       "      <td>27.160158</td>\n",
       "      <td>27.170700</td>\n",
       "      <td>27.178225</td>\n",
       "    </tr>\n",
       "  </tbody>\n",
       "</table>\n",
       "<p>3 rows × 102 columns</p>\n",
       "</div>"
      ],
      "text/plain": [
       "  year_month_day  MLD          1          2          3          4          5  \\\n",
       "0     1998-01-02    3  26.060254  26.088742  26.110251  26.138357  26.180466   \n",
       "1     1998-01-14    1  25.173462  25.607802  25.954171  26.178559  26.327840   \n",
       "2     1998-01-20    1  25.405984  25.592794  25.741478  25.845327  25.912701   \n",
       "\n",
       "           6          7          8  ...         91         92         93  \\\n",
       "0  26.212770  26.233976  26.253681  ...  27.129025  27.129424  27.130428   \n",
       "1  26.380065  26.404467  26.426026  ...  27.265396  27.272824  27.283433   \n",
       "2  25.972181  26.015282  26.049832  ...  27.129682  27.136731  27.138540   \n",
       "\n",
       "          94         95         96         97         98         99        100  \n",
       "0  27.131266  27.131969  27.132712  27.134112  27.136789  27.142753  27.152694  \n",
       "1  27.290331  27.294107  27.296084  27.297151  27.303671  27.310539  27.312859  \n",
       "2  27.140451  27.144443  27.147141  27.151460  27.160158  27.170700  27.178225  \n",
       "\n",
       "[3 rows x 102 columns]"
      ]
     },
     "execution_count": 11,
     "metadata": {},
     "output_type": "execute_result"
    }
   ],
   "source": [
    "df_density.head(3)"
   ]
  },
  {
   "cell_type": "code",
   "execution_count": 17,
   "metadata": {},
   "outputs": [
    {
     "data": {
      "image/png": "[encoded data removed]",
      "text/plain": [
       "<Figure size 432x288 with 1 Axes>"
      ]
     },
     "metadata": {
      "needs_background": "light"
     },
     "output_type": "display_data"
    }
   ],
   "source": [
    "plt.plot(df_density['year_month_day'], df_density['MLD'])\n",
    "plt.gca().invert_yaxis()\n",
    "plt.show()"
   ]
  },
  {
   "cell_type": "code",
   "execution_count": null,
   "metadata": {},
   "outputs": [],
   "source": []
  }
 ],
 "metadata": {
  "kernelspec": {
   "display_name": "Python 3",
   "language": "python",
   "name": "python3"
  },
  "language_info": {
   "codemirror_mode": {
    "name": "ipython",
    "version": 3
   },
   "file_extension": ".py",
   "mimetype": "text/x-python",
   "name": "python",
   "nbconvert_exporter": "python",
   "pygments_lexer": "ipython3",
   "version": "3.7.1"
  }
 },
 "nbformat": 4,
 "nbformat_minor": 2
}
